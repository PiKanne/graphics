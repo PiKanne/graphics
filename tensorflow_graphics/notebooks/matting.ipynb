{
  "cells": [
    {
      "cell_type": "markdown",
      "metadata": {
        "colab_type": "text",
        "id": "o12ifaotXaMg"
      },
      "source": [
        "##### Copyright 2019 Google LLC."
      ]
    },
    {
      "cell_type": "code",
      "execution_count": 0,
      "metadata": {
        "cellView": "form",
        "colab": {},
        "colab_type": "code",
        "id": "1GBcPzQeXocT"
      },
      "outputs": [],
      "source": [
        "#@title Licensed under the Apache License, Version 2.0 (the \"License\");\n",
        "# you may not use this file except in compliance with the License.\n",
        "# You may obtain a copy of the License at\n",
        "#\n",
        "# https://www.apache.org/licenses/LICENSE-2.0\n",
        "#\n",
        "# Unless required by applicable law or agreed to in writing, software\n",
        "# distributed under the License is distributed on an \"AS IS\" BASIS,\n",
        "# WITHOUT WARRANTIES OR CONDITIONS OF ANY KIND, either express or implied.\n",
        "# See the License for the specific language governing permissions and\n",
        "# limitations under the License."
      ]
    },
    {
      "cell_type": "markdown",
      "metadata": {
        "colab_type": "text",
        "id": "GSwlSaVxXuAE"
      },
      "source": [
        "# Closed Form Matting Energy\n",
        "\u003ctable class=\"tfo-notebook-buttons\" align=\"left\"\u003e\n",
        "  \u003ctd\u003e\n",
        "    \u003ca target=\"_blank\" href=\"https://colab.research.google.com/github/tensorflow/graphics/blob/master/tensorflow_graphics/notebooks/matting.ipynb\"\u003e\u003cimg src=\"https://www.tensorflow.org/images/colab_logo_32px.png\" /\u003eRun in Google Colab\u003c/a\u003e\n",
        "  \u003c/td\u003e\n",
        "  \u003ctd\u003e\n",
        "    \u003ca target=\"_blank\" href=\"https://github.com/tensorflow/graphics/blob/master/tensorflow_graphics/notebooks/matting.ipynb\"\u003e\u003cimg src=\"https://www.tensorflow.org/images/GitHub-Mark-32px.png\" /\u003eView source on GitHub\u003c/a\u003e\n",
        "  \u003c/td\u003e\n",
        "\u003c/table\u003e"
      ]
    },
    {
      "cell_type": "markdown",
      "metadata": {
        "colab_type": "text",
        "id": "9iWqeS9qYBAJ"
      },
      "source": [
        "## Setup \u0026 Imports\n",
        "If Tensorflow Graphics is not installed on your system, the following cell can install the Tensorflow Graphics package for you."
      ]
    },
    {
      "cell_type": "code",
      "execution_count": 0,
      "metadata": {
        "colab": {},
        "colab_type": "code",
        "id": "X_v1AoLCYFp-"
      },
      "outputs": [],
      "source": [
        "#!pip install tensorflow_graphics\n",
        "!git clone https://github.com/tensorflow/graphics.git\n",
        "!mv graphics/tensorflow_graphics tensorflow_graphics\n",
        "!rm -rf graphics"
      ]
    },
    {
      "cell_type": "markdown",
      "metadata": {
        "colab_type": "text",
        "id": "VSoQOLZXYGnL"
      },
      "source": [
        "Now that Tensorflow Graphics is installed, let's import everything needed to run the demos contained in this notebook."
      ]
    },
    {
      "cell_type": "code",
      "execution_count": 0,
      "metadata": {
        "colab": {},
        "colab_type": "code",
        "id": "-JnFAN7Ndzi7"
      },
      "outputs": [],
      "source": [
        "from __future__ import absolute_import\n",
        "from __future__ import division\n",
        "from __future__ import print_function\n",
        "\n",
        "import matplotlib.pyplot as plt\n",
        "import tensorflow as tf\n",
        "from tensorflow_graphics.image import matting\n",
        "\n",
        "tf.enable_eager_execution()"
      ]
    },
    {
      "cell_type": "markdown",
      "metadata": {
        "colab_type": "text",
        "id": "ni8fbo1OaHsj"
      },
      "source": [
        "## Imports the Image and Scribbles.\n",
        "Download the image and scribbles."
      ]
    },
    {
      "cell_type": "code",
      "execution_count": 0,
      "metadata": {
        "colab": {},
        "colab_type": "code",
        "id": "vBg2BCKPZCQ0"
      },
      "outputs": [],
      "source": [
        "# Downloads the image and scribbles\n",
        "# Courtesy of Keenan Crane www.cs.cmu.edu/~kmcrane/Projects/ModelRepository/.\n",
        "!wget https://storage.googleapis.com/tensorflow-graphics/notebooks/matting/image.png\n",
        "!wget https://storage.googleapis.com/tensorflow-graphics/notebooks/matting/scribbles.png\n",
        "\n",
        "# Reads and decode images.\n",
        "source = tf.read_file('image.png')\n",
        "source = tf.cast(tf.io.decode_png(source), tf.float64) / 255.0\n",
        "source = tf.expand_dims(source, axis=0)\n",
        "scribbles = tf.read_file('scribbles.png')\n",
        "scribbles = tf.cast(tf.io.decode_png(scribbles), tf.float64) / 255.0\n",
        "scribbles = tf.expand_dims(scribbles, axis=0)\n",
        "\n",
        "# Shows images\n",
        "fig = plt.figure(figsize=(22, 18))\n",
        "axes = fig.add_subplot(1, 2, 1)\n",
        "axes.grid(False)\n",
        "axes.set_title('Input image', fontsize=14)\n",
        "plt.imshow(source[0, ...].numpy())\n",
        "axes = fig.add_subplot(1, 2, 2)\n",
        "axes.grid(False)\n",
        "axes.set_title('Input scribbles', fontsize=14)\n",
        "plt.imshow(scribbles[0, ...].numpy())"
      ]
    },
    {
      "cell_type": "markdown",
      "metadata": {
        "colab_type": "text",
        "id": "gA7WTJI1Y0qZ"
      },
      "source": [
        "Extract the foreground and background constraints from the scribble image."
      ]
    },
    {
      "cell_type": "code",
      "execution_count": 0,
      "metadata": {
        "colab": {},
        "colab_type": "code",
        "id": "ZzLFoL5_YSgX"
      },
      "outputs": [],
      "source": [
        "# Extracts the forgreound and background constraints from the scribble image.\n",
        "foreground = tf.clip_by_value(\n",
        "    tf.sign(tf.reduce_sum(scribbles - source, axis=-1, keepdims=True)), 0.0,\n",
        "    1.0)\n",
        "background = tf.clip_by_value(\n",
        "    tf.sign(tf.reduce_sum(source - scribbles, axis=-1, keepdims=True)), 0.0,\n",
        "    1.0)\n",
        "\n",
        "# Shows foreground and background constraints.\n",
        "fig = plt.figure(figsize=(22, 18))\n",
        "axes = fig.add_subplot(1, 2, 1)\n",
        "axes.grid('off')\n",
        "axes.set_title('Foreground constraints', fontsize=14)\n",
        "plt.imshow(foreground[0, ..., 0].numpy(), cmap='gray', vmin=0, vmax=1)\n",
        "axes = fig.add_subplot(1, 2, 2)\n",
        "axes.grid('off')\n",
        "axes.set_title('Background constraints', fontsize=14)\n",
        "plt.imshow(background[0, ..., 0].numpy(), cmap='gray', vmin=0, vmax=1)"
      ]
    },
    {
      "cell_type": "markdown",
      "metadata": {
        "colab_type": "text",
        "id": "INHsXVYHZdIi"
      },
      "source": [
        "## Setup \u0026 Run the Optimization"
      ]
    },
    {
      "cell_type": "markdown",
      "metadata": {
        "colab_type": "text",
        "id": "Ya-cECcCajJ2"
      },
      "source": [
        "Setup the matting loss function using TensorFlow Graphics."
      ]
    },
    {
      "cell_type": "code",
      "execution_count": 0,
      "metadata": {
        "colab": {},
        "colab_type": "code",
        "id": "BYSuaxkRaaxz"
      },
      "outputs": [],
      "source": [
        "# Initializes the matte with random values.\n",
        "matte_shape = tf.concat((tf.shape(source)[:-1], (1,)), axis=-1)\n",
        "matte = tf.Variable(\n",
        "    tf.random.uniform(\n",
        "        shape=matte_shape, minval=0.0, maxval=1.0, dtype=tf.float64))\n",
        "# Creates the closed form matting Laplacian\n",
        "L, _ = matting.build_matrices(source)\n",
        "\n",
        "\n",
        "# Function computing the loss and applying the gradient. \n",
        "@tf.function\n",
        "def optimize(optimizer):\n",
        "  with tf.GradientTape() as tape:\n",
        "    tape.watch(matte)\n",
        "    # Computes a loss enforcing the scribble constraints.\n",
        "    constraints = tf.reduce_mean(\n",
        "        (foreground + background) * tf.squared_difference(matte, foreground))\n",
        "    # Computes the matting loss.\n",
        "    smoothness = matting.loss(matte, L)\n",
        "    # Sums up the constraint and matting losses.\n",
        "    total_loss = 100 * constraints + smoothness\n",
        "  # Computes and apply gradient to the matte.\n",
        "  g = tape.gradient(total_loss, [matte])\n",
        "  optimizer.apply_gradients(zip(g, (matte,)))"
      ]
    },
    {
      "cell_type": "markdown",
      "metadata": {
        "colab_type": "text",
        "id": "725a7c42agiP"
      },
      "source": [
        "Run the Adam optimizer for 500 iterations. "
      ]
    },
    {
      "cell_type": "code",
      "execution_count": 0,
      "metadata": {
        "colab": {},
        "colab_type": "code",
        "id": "d1K0GaEHYWIl"
      },
      "outputs": [],
      "source": [
        "# Runs the Adam optimizer for 500 iterations.\n",
        "optimizer = tf.train.AdamOptimizer(learning_rate=1.0)\n",
        "nb_iterations = 500\n",
        "for it in range(nb_iterations):\n",
        "  optimize(optimizer)\n",
        "\n",
        "# Displays the result.\n",
        "fig = plt.figure(figsize=(22, 18))\n",
        "axes = fig.add_subplot(1, 3, 1)\n",
        "axes.grid('off')\n",
        "axes.set_title('Input image', fontsize=14)\n",
        "plt.imshow(source[0, ...].numpy())\n",
        "axes = fig.add_subplot(1, 3, 2)\n",
        "axes.grid('off')\n",
        "axes.set_title('Input scribbles', fontsize=14)\n",
        "plt.imshow(scribbles[0, ...].numpy())\n",
        "axes = fig.add_subplot(1, 3, 3)\n",
        "axes.grid('off')\n",
        "axes.set_title('Matte', fontsize=14)\n",
        "plt.imshow(matte.numpy()[0, ..., 0], cmap='gray', vmin=0, vmax=1)"
      ]
    }
  ],
  "metadata": {
    "colab": {
      "collapsed_sections": [],
      "last_runtime": {
        "build_target": "//vr/perception/makkari/colab:makkari",
        "kind": "private"
      },
      "name": "Matting.ipynb",
      "provenance": [],
      "toc_visible": true
    },
    "kernelspec": {
      "display_name": "Python 2",
      "name": "python2"
    }
  },
  "nbformat": 4,
  "nbformat_minor": 0
}
